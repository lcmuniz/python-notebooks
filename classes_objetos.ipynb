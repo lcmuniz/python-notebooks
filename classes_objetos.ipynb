{
 "cells": [
  {
   "cell_type": "markdown",
   "metadata": {},
   "source": [
    "# Classes e Objetos"
   ]
  },
  {
   "cell_type": "markdown",
   "metadata": {},
   "source": [
    "Python é uma linguagem de programação __orientada a objetos__. \n",
    "\n",
    "Na programação orientada a objetos, o foco está na criação de objetos que contêm dados e funcionalidade juntos. Normalmente, cada definição de objeto corresponde a algum objeto ou conceito no mundo real e as funções que operam nesse objeto correspondem às formas pelas quais os objetos do mundo real interagem.\n",
    "\n",
    "Como exemplo, considere o conceito de um ponto matemático. Em duas dimensões, um ponto é dois números (coordenadas) que são tratados como um único objeto. Os pontos geralmente são escritos entre parênteses com uma vírgula separando as coordenadas. Por exemplo, (0, 0) representa a origem e (x, y) representa o ponto x unidades à direita e y unidades a partir da origem. \n",
    "\n",
    "Para representarmos pontos, definimos uma classe que definirá quais as propriedades e métodos os objetos do tipo __ponto__ devem possuir."
   ]
  },
  {
   "cell_type": "code",
   "execution_count": null,
   "metadata": {},
   "outputs": [],
   "source": [
    "class Ponto:\n",
    "    \"\"\" Classe Ponto para representar as coordenadoas x e y. \"\"\"\n",
    "\n",
    "    def __init__(self):\n",
    "        \"\"\" Cria um novo ponto na origem \"\"\"\n",
    "        self.x = 0\n",
    "        self.y = 0"
   ]
  },
  {
   "cell_type": "markdown",
   "metadata": {},
   "source": [
    "Cada classe deve ter um método com o nome especial __init__. Esse método inicializador, chamado de __construtor__, é executado automaticamente sempre que um novo objeto da classe Ponto é criado. Ele fornece ao programador a oportunidade de atribuir os valores iniciais das propriedades do novo objeto. O parâmetro __self__ se refere ao objeto recém-criado.\n",
    "\n",
    "Para criarmos um objeto basta utilizar o nome da classe."
   ]
  },
  {
   "cell_type": "code",
   "execution_count": null,
   "metadata": {},
   "outputs": [],
   "source": [
    "p = Ponto()         \n",
    "q = Ponto()      "
   ]
  },
  {
   "cell_type": "markdown",
   "metadata": {},
   "source": [
    "Podemos agora acessar as propriedades x e y de cada objeto."
   ]
  },
  {
   "cell_type": "code",
   "execution_count": null,
   "metadata": {},
   "outputs": [],
   "source": [
    "print(f\"Objeto p: x = {p.x}, y = {p.y}\")\n",
    "print(f\"Objeto q: x = {q.x}, y = {q.y}\")\n",
    "print(p is q)"
   ]
  },
  {
   "cell_type": "markdown",
   "metadata": {},
   "source": [
    "Podemos alterar as propriedades dos objetos depois que os criamos."
   ]
  },
  {
   "cell_type": "code",
   "execution_count": null,
   "metadata": {},
   "outputs": [],
   "source": [
    "p.x = 4\n",
    "p.y = 3\n",
    "\n",
    "print(f\"Objeto p: x = {p.x}, y = {p.y}\")\n",
    "print(f\"Objeto q: x = {q.x}, y = {q.y}\")"
   ]
  },
  {
   "cell_type": "markdown",
   "metadata": {},
   "source": [
    "Se utilizarmos a função __print__ para mostrar um objeto, veremos que a saída será uma mensagem dizendo que o objeto é da classe Ponto, seguida de um endereço de memória onde o objeto está localizado."
   ]
  },
  {
   "cell_type": "code",
   "execution_count": null,
   "metadata": {},
   "outputs": [],
   "source": [
    "print(p)\n",
    "print(q)"
   ]
  },
  {
   "cell_type": "markdown",
   "metadata": {},
   "source": [
    "Podemos personalizar este comportamento, definindo um método __\\__str\\____ que irá ser chamado automaticamente quando a função print for usada no objeto."
   ]
  },
  {
   "cell_type": "code",
   "execution_count": null,
   "metadata": {},
   "outputs": [],
   "source": [
    "class Ponto:\n",
    "    \"\"\" Classe Ponto para representar as coordenadoas x e y. \"\"\"\n",
    "\n",
    "    def __init__(self):\n",
    "        \"\"\" Cria um novo ponto na origem \"\"\"\n",
    "        self.x = 0\n",
    "        self.y = 0\n",
    "        \n",
    "    def __str__(self):\n",
    "        return f\"(x={self.x}, y={self.y})\""
   ]
  },
  {
   "cell_type": "code",
   "execution_count": null,
   "metadata": {},
   "outputs": [],
   "source": [
    "p = Ponto()\n",
    "q = Ponto()\n",
    "\n",
    "p.x = 4\n",
    "p.y = 3\n",
    "\n",
    "print(p)\n",
    "print(q)"
   ]
  },
  {
   "cell_type": "markdown",
   "metadata": {},
   "source": [
    "Nosso construtor até agora só pode criar pontos no local (0,0). Para criar um ponto na posição (7, 6), é necessário fornecer uma maneira do usuário passar informações para o construtor. Podemos usar parâmetros para fornecer as informações específicas.\n",
    "\n",
    "Podemos tornar nosso construtor de classes mais geral colocando parâmetros extras no método __init__."
   ]
  },
  {
   "cell_type": "code",
   "execution_count": null,
   "metadata": {},
   "outputs": [],
   "source": [
    "class Ponto:\n",
    "    \"\"\" Classe Ponto para representar as coordenadoas x e y. \"\"\"\n",
    "\n",
    "    def __init__(self, valorX, valorY):\n",
    "        \"\"\" Cria um novo ponto na posição valorX, valorY \"\"\"\n",
    "        self.x = valorX\n",
    "        self.y = valorY\n",
    "        \n",
    "    def __str__(self):\n",
    "        \"\"\" Retorna uma string representando o objeto \"\"\"\n",
    "        return f\"(x={self.x}, y={self.y})\""
   ]
  },
  {
   "cell_type": "code",
   "execution_count": null,
   "metadata": {},
   "outputs": [],
   "source": [
    "p = Ponto(4,3)\n",
    "q = Ponto(1,1)\n",
    "r = Ponto(0,0)\n",
    "\n",
    "print(p, q, r)"
   ]
  },
  {
   "cell_type": "markdown",
   "metadata": {},
   "source": [
    "Vamos adicionar outro método, __distanciaAteOrigem__, para ver melhor métodos de classes funcionam. "
   ]
  },
  {
   "cell_type": "code",
   "execution_count": null,
   "metadata": {},
   "outputs": [],
   "source": [
    "import math\n",
    "\n",
    "class Ponto:\n",
    "    \"\"\" Classe Ponto para representar as coordenadoas x e y. \"\"\"\n",
    "\n",
    "    def __init__(self, valorX, valorY):\n",
    "        \"\"\" Cria um novo ponto na posição valorX, valorY \"\"\"\n",
    "        self.x = valorX\n",
    "        self.y = valorY\n",
    "        \n",
    "    def __str__(self):\n",
    "        \"\"\" Retorna uma string representando o objeto \"\"\"\n",
    "        return f\"(x={self.x}, y={self.y})\"\n",
    "    \n",
    "    def distanciaAteOrigem(self):\n",
    "        \"\"\" Retorna a distância deste ponto até a origem (0,0) \"\"\"\n",
    "        distancia = math.sqrt((self.x ** 2 + self.y ** 2))\n",
    "        return distancia"
   ]
  },
  {
   "cell_type": "code",
   "execution_count": null,
   "metadata": {},
   "outputs": [],
   "source": [
    "p = Ponto(4,3)\n",
    "\n",
    "dist = p.distanciaAteOrigem()\n",
    "\n",
    "print(f\"A distância de {p} até (x=0, y=0) é {dist}\")"
   ]
  },
  {
   "cell_type": "markdown",
   "metadata": {},
   "source": [
    "Você pode passar objetos como parâmetros de funções. Aqui está uma função simples chamada distância envolvendo objetos Ponto. O trabalho desta função é descobrir a distância entre dois pontos."
   ]
  },
  {
   "cell_type": "code",
   "execution_count": null,
   "metadata": {},
   "outputs": [],
   "source": [
    "def distancia(pontoA, pontoB):\n",
    "    dx = pontoA.x - pontoB.x\n",
    "    dy = pontoA.y - pontoB.y\n",
    "    distancia = math.sqrt(dx ** 2 + dy ** 2)\n",
    "    return distancia\n",
    "\n",
    "p = Ponto(4,3)\n",
    "\n",
    "q = Ponto(1,1)\n",
    "\n",
    "distanciaEntrePeQ = distancia(p,q)\n",
    "\n",
    "print(f\"A distância entre {p} e {q} é {distanciaEntrePeQ}\")"
   ]
  },
  {
   "cell_type": "markdown",
   "metadata": {},
   "source": [
    "Podemos melhorar esse código incluindo o método __distancia__ na classe Ponto. "
   ]
  },
  {
   "cell_type": "code",
   "execution_count": null,
   "metadata": {},
   "outputs": [],
   "source": [
    "import math\n",
    "\n",
    "class Ponto:\n",
    "    \"\"\" Classe Ponto para representar as coordenadoas x e y. \"\"\"\n",
    "\n",
    "    def __init__(self, valorX, valorY):\n",
    "        \"\"\" Cria um novo ponto na posição valorX, valorY \"\"\"\n",
    "        self.x = valorX\n",
    "        self.y = valorY\n",
    "        \n",
    "    def __str__(self):\n",
    "        \"\"\" Retorna uma string representando o objeto \"\"\"\n",
    "        return f\"(x={self.x}, y={self.y})\"\n",
    "    \n",
    "    def distanciaAteOrigem(self):\n",
    "        \"\"\" Retorna a distância deste ponto até a origem (0,0) \"\"\"\n",
    "        distancia = math.sqrt((self.x ** 2 + self.y ** 2))\n",
    "        return distancia\n",
    "    \n",
    "    def distanciaAte(self, outroPonto):\n",
    "        \"\"\" Retorna a distância deste ponto até o ponto 'outroPonto' \"\"\"\n",
    "        dx = self.x - outroPonto.x\n",
    "        dy = self.y - outroPonto.y\n",
    "        distancia = math.sqrt((dx ** 2 + dy ** 2))\n",
    "        return distancia"
   ]
  },
  {
   "cell_type": "code",
   "execution_count": null,
   "metadata": {},
   "outputs": [],
   "source": [
    "p = Ponto(4,3)\n",
    "\n",
    "q = Ponto(1,1)\n",
    "\n",
    "r = Ponto(-1, -3)\n",
    "\n",
    "distancia_de_p_ate_q = p.distanciaAte(q) \n",
    "\n",
    "distancia_de_q_ate_p = q.distanciaAte(p) \n",
    "\n",
    "distancia_de_p_ate_r = p.distanciaAte(r) \n",
    "\n",
    "print(f\"A distância entre {p} e {q} é {distancia_de_p_ate_q}\")\n",
    "print(f\"A distância entre {q} e {p} é {distancia_de_q_ate_p}\")\n",
    "print(f\"A distância entre {p} e {r} é {distancia_de_p_ate_r}\")"
   ]
  },
  {
   "cell_type": "markdown",
   "metadata": {},
   "source": [
    "Um método de uma classe pode retornar um objeto da própria classe. Por exemplo, podemos definir um método que retorne um Ponto que fique no meio do caminho entre dois outros pontos."
   ]
  },
  {
   "cell_type": "code",
   "execution_count": null,
   "metadata": {},
   "outputs": [],
   "source": [
    "import math\n",
    "\n",
    "class Ponto:\n",
    "    \"\"\" Classe Ponto para representar as coordenadoas x e y. \"\"\"\n",
    "\n",
    "    def __init__(self, valorX, valorY):\n",
    "        \"\"\" Cria um novo ponto na posição valorX, valorY \"\"\"\n",
    "        self.x = valorX\n",
    "        self.y = valorY\n",
    "        \n",
    "    def __str__(self):\n",
    "        \"\"\" Retorna uma string representando o objeto \"\"\"\n",
    "        return f\"(x={self.x}, y={self.y})\"\n",
    "    \n",
    "    def distanciaAteOrigem(self):\n",
    "        \"\"\" Retorna a distância deste ponto até a origem (0,0) \"\"\"\n",
    "        distancia = math.sqrt((self.x ** 2 + self.y ** 2))\n",
    "        return distancia\n",
    "    \n",
    "    def distanciaAte(self, outroPonto):\n",
    "        \"\"\" Retorna a distância deste ponto até o ponto 'outroPonto' \"\"\"\n",
    "        dx = self.x - outroPonto.x\n",
    "        dy = self.y - outroPonto.y\n",
    "        distancia = math.sqrt((dx ** 2 + dy ** 2))\n",
    "        return distancia\n",
    "    \n",
    "    def noMeio(self, outroPonto):\n",
    "        \"\"\" Retorna um ponto no meio do caminho entre este ponto e 'outroPonto' \"\"\"\n",
    "        mx = (self.x + outroPonto.x) / 2\n",
    "        my = (self.y + outroPonto.y) / 2\n",
    "        meio = Ponto(mx, my)\n",
    "        return meio"
   ]
  },
  {
   "cell_type": "code",
   "execution_count": null,
   "metadata": {},
   "outputs": [],
   "source": [
    "p = Ponto(4,3)\n",
    "\n",
    "q = Ponto(1,1)\n",
    "\n",
    "s = Ponto(0,0)\n",
    "\n",
    "pq  = p.noMeio(q)\n",
    "ps  = p.noMeio(s)\n",
    "\n",
    "print(pq)\n",
    "print(ps)"
   ]
  },
  {
   "cell_type": "markdown",
   "metadata": {},
   "source": [
    "## Exercícios"
   ]
  },
  {
   "cell_type": "markdown",
   "metadata": {},
   "source": [
    "1. Adicione um método ```reflexo_x``` ao ponto que retorna um novo ponto que é o reflexo do ponto sobre o eixo x. Por exemplo, ```Ponto(3, 5).reflect_x()``` deve retornar (3,-5)."
   ]
  },
  {
   "cell_type": "code",
   "execution_count": null,
   "metadata": {},
   "outputs": [],
   "source": []
  },
  {
   "cell_type": "markdown",
   "metadata": {},
   "source": [
    "2. Adicione um método chamado ```mover``` que recebe dois parâmetros, chame-os de dx e dy. O método fará com que o ponto mova-se na direção x e y o número de unidades dadas. Por exemplo, \n",
    "\n",
    "```\n",
    "p = Ponto(2,3)\n",
    "p.mover(2,2)\n",
    "print(p) # deve mostrar (x=4, y=5)```\n",
    "    "
   ]
  },
  {
   "cell_type": "code",
   "execution_count": null,
   "metadata": {},
   "outputs": [],
   "source": []
  }
 ],
 "metadata": {
  "kernelspec": {
   "display_name": "Python 3",
   "language": "python",
   "name": "python3"
  },
  "language_info": {
   "codemirror_mode": {
    "name": "ipython",
    "version": 3
   },
   "file_extension": ".py",
   "mimetype": "text/x-python",
   "name": "python",
   "nbconvert_exporter": "python",
   "pygments_lexer": "ipython3",
   "version": "3.6.6"
  }
 },
 "nbformat": 4,
 "nbformat_minor": 2
}
